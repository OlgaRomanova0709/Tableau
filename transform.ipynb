{
 "cells": [
  {
   "cell_type": "code",
   "execution_count": 23,
   "metadata": {},
   "outputs": [],
   "source": [
    "import pandas as pd"
   ]
  },
  {
   "cell_type": "code",
   "execution_count": 100,
   "metadata": {},
   "outputs": [],
   "source": [
    "\n",
    "fileS3=pd.read_csv(\"201908-citibike-tripdata.csv\")\n",
    "fileS2=pd.read_csv(\"201907-citibike-tripdata.csv\")\n",
    "fileS1=pd.read_csv(\"201906-citibike-tripdata.csv\")\n",
    "\n",
    "fileW3=pd.read_csv(\"201902-citibike-tripdata.csv\")\n",
    "fileW2=pd.read_csv(\"201901-citibike-tripdata.csv\")\n",
    "fileW1=pd.read_csv(\"201812-citibike-tripdata.csv\")\n"
   ]
  },
  {
   "cell_type": "code",
   "execution_count": 42,
   "metadata": {},
   "outputs": [
    {
     "data": {
      "text/html": [
       "<div>\n",
       "<style scoped>\n",
       "    .dataframe tbody tr th:only-of-type {\n",
       "        vertical-align: middle;\n",
       "    }\n",
       "\n",
       "    .dataframe tbody tr th {\n",
       "        vertical-align: top;\n",
       "    }\n",
       "\n",
       "    .dataframe thead th {\n",
       "        text-align: right;\n",
       "    }\n",
       "</style>\n",
       "<table border=\"1\" class=\"dataframe\">\n",
       "  <thead>\n",
       "    <tr style=\"text-align: right;\">\n",
       "      <th></th>\n",
       "      <th>tripduration</th>\n",
       "      <th>starttime</th>\n",
       "      <th>stoptime</th>\n",
       "      <th>start station id</th>\n",
       "      <th>start station name</th>\n",
       "      <th>start station latitude</th>\n",
       "      <th>start station longitude</th>\n",
       "      <th>end station id</th>\n",
       "      <th>end station name</th>\n",
       "      <th>end station latitude</th>\n",
       "      <th>end station longitude</th>\n",
       "      <th>bikeid</th>\n",
       "      <th>usertype</th>\n",
       "      <th>birth year</th>\n",
       "      <th>gender</th>\n",
       "    </tr>\n",
       "  </thead>\n",
       "  <tbody>\n",
       "    <tr>\n",
       "      <th>0</th>\n",
       "      <td>219</td>\n",
       "      <td>2019-02-01 00:00:06.2570</td>\n",
       "      <td>2019-02-01 00:03:46.1090</td>\n",
       "      <td>3494.0</td>\n",
       "      <td>E 115 St &amp; Lexington Ave</td>\n",
       "      <td>40.797911</td>\n",
       "      <td>-73.942300</td>\n",
       "      <td>3501.0</td>\n",
       "      <td>E 118 St &amp; Madison Ave</td>\n",
       "      <td>40.801487</td>\n",
       "      <td>-73.944251</td>\n",
       "      <td>33450</td>\n",
       "      <td>Subscriber</td>\n",
       "      <td>1989</td>\n",
       "      <td>1</td>\n",
       "    </tr>\n",
       "    <tr>\n",
       "      <th>1</th>\n",
       "      <td>143</td>\n",
       "      <td>2019-02-01 00:00:28.0320</td>\n",
       "      <td>2019-02-01 00:02:51.7460</td>\n",
       "      <td>438.0</td>\n",
       "      <td>St Marks Pl &amp; 1 Ave</td>\n",
       "      <td>40.727791</td>\n",
       "      <td>-73.985649</td>\n",
       "      <td>236.0</td>\n",
       "      <td>St Marks Pl &amp; 2 Ave</td>\n",
       "      <td>40.728419</td>\n",
       "      <td>-73.987140</td>\n",
       "      <td>25626</td>\n",
       "      <td>Subscriber</td>\n",
       "      <td>1990</td>\n",
       "      <td>1</td>\n",
       "    </tr>\n",
       "    <tr>\n",
       "      <th>2</th>\n",
       "      <td>296</td>\n",
       "      <td>2019-02-01 00:01:13.9870</td>\n",
       "      <td>2019-02-01 00:06:10.7340</td>\n",
       "      <td>3571.0</td>\n",
       "      <td>Bedford Ave &amp; Bergen St</td>\n",
       "      <td>40.676368</td>\n",
       "      <td>-73.952918</td>\n",
       "      <td>3549.0</td>\n",
       "      <td>Grand Ave &amp; Bergen St</td>\n",
       "      <td>40.678045</td>\n",
       "      <td>-73.962408</td>\n",
       "      <td>35568</td>\n",
       "      <td>Subscriber</td>\n",
       "      <td>1987</td>\n",
       "      <td>1</td>\n",
       "    </tr>\n",
       "    <tr>\n",
       "      <th>3</th>\n",
       "      <td>478</td>\n",
       "      <td>2019-02-01 00:01:14.1520</td>\n",
       "      <td>2019-02-01 00:09:12.7870</td>\n",
       "      <td>167.0</td>\n",
       "      <td>E 39 St &amp; 3 Ave</td>\n",
       "      <td>40.748901</td>\n",
       "      <td>-73.976049</td>\n",
       "      <td>477.0</td>\n",
       "      <td>W 41 St &amp; 8 Ave</td>\n",
       "      <td>40.756405</td>\n",
       "      <td>-73.990026</td>\n",
       "      <td>25045</td>\n",
       "      <td>Subscriber</td>\n",
       "      <td>1964</td>\n",
       "      <td>2</td>\n",
       "    </tr>\n",
       "    <tr>\n",
       "      <th>4</th>\n",
       "      <td>225</td>\n",
       "      <td>2019-02-01 00:01:49.3410</td>\n",
       "      <td>2019-02-01 00:05:34.4980</td>\n",
       "      <td>3458.0</td>\n",
       "      <td>W 55 St &amp; 6 Ave</td>\n",
       "      <td>40.763094</td>\n",
       "      <td>-73.978350</td>\n",
       "      <td>3443.0</td>\n",
       "      <td>W 52 St &amp; 6 Ave</td>\n",
       "      <td>40.761330</td>\n",
       "      <td>-73.979820</td>\n",
       "      <td>34006</td>\n",
       "      <td>Subscriber</td>\n",
       "      <td>1979</td>\n",
       "      <td>1</td>\n",
       "    </tr>\n",
       "  </tbody>\n",
       "</table>\n",
       "</div>"
      ],
      "text/plain": [
       "   tripduration                 starttime                  stoptime  \\\n",
       "0           219  2019-02-01 00:00:06.2570  2019-02-01 00:03:46.1090   \n",
       "1           143  2019-02-01 00:00:28.0320  2019-02-01 00:02:51.7460   \n",
       "2           296  2019-02-01 00:01:13.9870  2019-02-01 00:06:10.7340   \n",
       "3           478  2019-02-01 00:01:14.1520  2019-02-01 00:09:12.7870   \n",
       "4           225  2019-02-01 00:01:49.3410  2019-02-01 00:05:34.4980   \n",
       "\n",
       "   start station id        start station name  start station latitude  \\\n",
       "0            3494.0  E 115 St & Lexington Ave               40.797911   \n",
       "1             438.0       St Marks Pl & 1 Ave               40.727791   \n",
       "2            3571.0   Bedford Ave & Bergen St               40.676368   \n",
       "3             167.0           E 39 St & 3 Ave               40.748901   \n",
       "4            3458.0           W 55 St & 6 Ave               40.763094   \n",
       "\n",
       "   start station longitude  end station id        end station name  \\\n",
       "0               -73.942300          3501.0  E 118 St & Madison Ave   \n",
       "1               -73.985649           236.0     St Marks Pl & 2 Ave   \n",
       "2               -73.952918          3549.0   Grand Ave & Bergen St   \n",
       "3               -73.976049           477.0         W 41 St & 8 Ave   \n",
       "4               -73.978350          3443.0         W 52 St & 6 Ave   \n",
       "\n",
       "   end station latitude  end station longitude  bikeid    usertype  \\\n",
       "0             40.801487             -73.944251   33450  Subscriber   \n",
       "1             40.728419             -73.987140   25626  Subscriber   \n",
       "2             40.678045             -73.962408   35568  Subscriber   \n",
       "3             40.756405             -73.990026   25045  Subscriber   \n",
       "4             40.761330             -73.979820   34006  Subscriber   \n",
       "\n",
       "   birth year  gender  \n",
       "0        1989       1  \n",
       "1        1990       1  \n",
       "2        1987       1  \n",
       "3        1964       2  \n",
       "4        1979       1  "
      ]
     },
     "execution_count": 42,
     "metadata": {},
     "output_type": "execute_result"
    }
   ],
   "source": [
    "fileW3.head()"
   ]
  },
  {
   "cell_type": "code",
   "execution_count": 96,
   "metadata": {},
   "outputs": [],
   "source": [
    "summer_data=pd.concat([fileS1,fileS2,fileS3])"
   ]
  },
  {
   "cell_type": "code",
   "execution_count": 97,
   "metadata": {},
   "outputs": [
    {
     "data": {
      "text/plain": [
       "6650658"
      ]
     },
     "execution_count": 97,
     "metadata": {},
     "output_type": "execute_result"
    }
   ],
   "source": [
    "len(summer_data)"
   ]
  },
  {
   "cell_type": "code",
   "execution_count": 98,
   "metadata": {},
   "outputs": [],
   "source": [
    "winter_data=pd.concat([fileW1,fileW2,fileW3])"
   ]
  },
  {
   "cell_type": "code",
   "execution_count": 103,
   "metadata": {},
   "outputs": [
    {
     "data": {
      "text/plain": [
       "2927536"
      ]
     },
     "execution_count": 103,
     "metadata": {},
     "output_type": "execute_result"
    }
   ],
   "source": [
    "len(winter_data)"
   ]
  },
  {
   "cell_type": "code",
   "execution_count": 104,
   "metadata": {},
   "outputs": [],
   "source": [
    "summer_data.to_csv(\"summer_data.csv\",index=False,header=True)"
   ]
  },
  {
   "cell_type": "code",
   "execution_count": 105,
   "metadata": {},
   "outputs": [],
   "source": [
    "winter_data.to_csv(\"winter_data.csv\",index=False,header=True)"
   ]
  },
  {
   "cell_type": "code",
   "execution_count": null,
   "metadata": {},
   "outputs": [],
   "source": []
  }
 ],
 "metadata": {
  "kernelspec": {
   "display_name": "Python 3",
   "language": "python",
   "name": "python3"
  },
  "language_info": {
   "codemirror_mode": {
    "name": "ipython",
    "version": 3
   },
   "file_extension": ".py",
   "mimetype": "text/x-python",
   "name": "python",
   "nbconvert_exporter": "python",
   "pygments_lexer": "ipython3",
   "version": "3.7.2"
  }
 },
 "nbformat": 4,
 "nbformat_minor": 2
}
